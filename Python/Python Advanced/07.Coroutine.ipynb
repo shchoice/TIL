{
 "cells": [
  {
   "cell_type": "markdown",
   "id": "327800a5-a9db-4588-af19-112095b2d3bd",
   "metadata": {},
   "source": [
    "# 코루틴\n",
    "파이썬에서 코루틴(coroutine)은 비동기 프로그래밍에 유용한 일종의 함수로, 협업 멀티태스킹을 가능하게 합니다. 코루틴은 일반 함수와 비슷하게 작동하지만, 일반 함수와는 다르게 실행을 일시 중지하고 다시 시작할 수 있습니다. 이를 통해 코루틴은 다른 코루틴이나 함수와 협력하여 여러 작업을 동시에 처리할 수 있습니다.\n",
    "\n",
    "코루틴은 async def 키워드를 사용하여 정의됩니다. 코루틴 내에서 다른 코루틴을 호출할 때는 await 키워드를 사용합니다. 이렇게 하면 코루틴은 비동기 작업을 기다리는 동안 실행을 일시 중단하고, 이후에 다시 실행을 재개할 수 있습니다. 이러한 동작 방식 덕분에 코루틴은 네트워크 작업, 파일 I/O 등 블로킹(blocking) 작업을 수행할 때 유용하게 사용할 수 있습니다."
   ]
  },
  {
   "cell_type": "markdown",
   "id": "63f81008-b44c-4513-ab7d-111e0f59c576",
   "metadata": {},
   "source": [
    "개요\n",
    "* Coroutine 개념\n",
    "* 제너레이터 vs 코루틴\n",
    "* 코루틴 기초 실습\n",
    "* 코루틴 예외 처리\n",
    "* yield from"
   ]
  },
  {
   "cell_type": "markdown",
   "id": "b3656708-7c73-426e-b6af-0da4baec07a6",
   "metadata": {},
   "source": [
    "yield : 메인루틴과 서브 루틴 간 통신을 할 수 있게 해줌, 코루틴 제어, 코루틴 상태, 양방향 값 전송\n",
    "* 메인 루틴 : 순차적으로 진행(하나의 흐름)\n",
    "* 서브 루틴 : 멈춰 있어서 다른 호출된 부분으로 이동\n",
    "\n",
    "* 서브루틴 : 메인루틴에서 -> 리턴에 의해 호출 부분으로 돌아와 다시 프로세스\n",
    "* 코루틴 : 루틴 실행 중 멈춤 가능 -> 특정 위치로 돌아갔다가 -> 다시 원래 위치로 돌아와 수행 가능 -> 동시성 프로그래밍 가능 (가독성 안좋음, 여기 저기 가기에)\n",
    "* 코루틴 : 코루틴 스케쥴링 오버헤드 매우 적다.\n",
    "* 쓰레드 : 싱글쓰레드 -> 멀티쓰레드 -> 복잡 -> 공유되는 자원 -> 교착 상태 발생 가능성, 컨텍스트 스위칭 비용 발생, 자원 소비 가능성 증가"
   ]
  },
  {
   "cell_type": "code",
   "execution_count": 5,
   "id": "f7154d45-59f5-48c9-9079-a05566bce925",
   "metadata": {},
   "outputs": [
    {
     "name": "stdout",
     "output_type": "stream",
     "text": [
      "EX1-1 - <generator object coroutine1 at 0x7faf500696d0> <class 'generator'>\n"
     ]
    }
   ],
   "source": [
    "# 코루틴 예제1\n",
    "\n",
    "def coroutine1():\n",
    "    print('>>> coroutine started.')\n",
    "    i = yield # main 루틴으로부터 값을 받을 수 있음\n",
    "    print('>>> coroutine received : {}'.format(i))\n",
    "\n",
    "# 제네레이터 선언\n",
    "\n",
    "c1 = coroutine1()\n",
    "\n",
    "print('EX1-1 -', c1, type(c1))"
   ]
  },
  {
   "cell_type": "code",
   "execution_count": 6,
   "id": "4accdfd0-fe3f-4a31-8771-fa932ea10864",
   "metadata": {},
   "outputs": [
    {
     "name": "stdout",
     "output_type": "stream",
     "text": [
      ">>> coroutine started.\n",
      ">>> coroutine received : 100\n"
     ]
    },
    {
     "ename": "StopIteration",
     "evalue": "",
     "output_type": "error",
     "traceback": [
      "\u001b[0;31m---------------------------------------------------------------------------\u001b[0m",
      "\u001b[0;31mStopIteration\u001b[0m                             Traceback (most recent call last)",
      "\u001b[0;32m/var/folders/f5/0f_87gv14b70d5y2pp9m1fhw0000gn/T/ipykernel_69406/4195245233.py\u001b[0m in \u001b[0;36m<module>\u001b[0;34m\u001b[0m\n\u001b[1;32m      4\u001b[0m \u001b[0;31m# next(c1)\u001b[0m\u001b[0;34m\u001b[0m\u001b[0;34m\u001b[0m\u001b[0m\n\u001b[1;32m      5\u001b[0m \u001b[0;31m# 값 전송\u001b[0m\u001b[0;34m\u001b[0m\u001b[0;34m\u001b[0m\u001b[0m\n\u001b[0;32m----> 6\u001b[0;31m \u001b[0mc1\u001b[0m\u001b[0;34m.\u001b[0m\u001b[0msend\u001b[0m\u001b[0;34m(\u001b[0m\u001b[0;36m100\u001b[0m\u001b[0;34m)\u001b[0m\u001b[0;34m\u001b[0m\u001b[0;34m\u001b[0m\u001b[0m\n\u001b[0m",
      "\u001b[0;31mStopIteration\u001b[0m: "
     ]
    }
   ],
   "source": [
    "# yield 실행 전까지 진행\n",
    "next(c1)\n",
    "# 기본으로 None 전달\n",
    "# next(c1)\n",
    "# 값 전송\n",
    "c1.send(100)"
   ]
  },
  {
   "cell_type": "code",
   "execution_count": 7,
   "id": "d79c1a96-73b8-4823-816c-b1af88579e9d",
   "metadata": {},
   "outputs": [
    {
     "ename": "TypeError",
     "evalue": "can't send non-None value to a just-started generator",
     "output_type": "error",
     "traceback": [
      "\u001b[0;31m---------------------------------------------------------------------------\u001b[0m",
      "\u001b[0;31mTypeError\u001b[0m                                 Traceback (most recent call last)",
      "\u001b[0;32m/var/folders/f5/0f_87gv14b70d5y2pp9m1fhw0000gn/T/ipykernel_69406/2565583148.py\u001b[0m in \u001b[0;36m<module>\u001b[0;34m\u001b[0m\n\u001b[1;32m      2\u001b[0m \u001b[0;34m\u001b[0m\u001b[0m\n\u001b[1;32m      3\u001b[0m \u001b[0mc2\u001b[0m \u001b[0;34m=\u001b[0m \u001b[0mcoroutine1\u001b[0m\u001b[0;34m(\u001b[0m\u001b[0;34m)\u001b[0m\u001b[0;34m\u001b[0m\u001b[0;34m\u001b[0m\u001b[0m\n\u001b[0;32m----> 4\u001b[0;31m \u001b[0mc2\u001b[0m\u001b[0;34m.\u001b[0m\u001b[0msend\u001b[0m\u001b[0;34m(\u001b[0m\u001b[0;36m100\u001b[0m\u001b[0;34m)\u001b[0m \u001b[0;31m# 예외 발생\u001b[0m\u001b[0;34m\u001b[0m\u001b[0;34m\u001b[0m\u001b[0m\n\u001b[0m",
      "\u001b[0;31mTypeError\u001b[0m: can't send non-None value to a just-started generator"
     ]
    }
   ],
   "source": [
    "# 잘못된 사용\n",
    "\n",
    "c2 = coroutine1()\n",
    "c2.send(100) # 예외 발생"
   ]
  },
  {
   "cell_type": "markdown",
   "id": "6eaeb234-b3a6-42fc-8feb-4ef8485a8c29",
   "metadata": {},
   "source": [
    "# 코루틴 예제2\n",
    "* GEN_CREATED : 처음 대기 상태\n",
    "* GEN_RUNNING : 실행 상태\n",
    "* GEN_SUSPENDED : yield 대기 상태\n",
    "* GEN_CLOSED : 실행 완료 상태"
   ]
  },
  {
   "cell_type": "code",
   "execution_count": 9,
   "id": "c55d087b-b7bb-477d-b690-714253a6e4ec",
   "metadata": {},
   "outputs": [],
   "source": [
    "def coroutine2(x):\n",
    "    print('>>> coroutine started : {}'.format(x))\n",
    "    y = yield x\n",
    "    print('>>> coroutine received : {}'.format(y))\n",
    "    z = yield x + y\n",
    "    print('>>> coroutine received : {}'.format(z))\n",
    "    \n",
    "c3 = coroutine2(10)"
   ]
  },
  {
   "cell_type": "code",
   "execution_count": 10,
   "id": "15e3c4e4-77d9-4f6b-958b-3d683ca0a1d8",
   "metadata": {},
   "outputs": [
    {
     "name": "stdout",
     "output_type": "stream",
     "text": [
      "EX1-2 - GEN_CREATED\n",
      ">>> coroutine started : 10\n",
      "10\n",
      "EX1-3 - GEN_SUSPENDED\n",
      ">>> coroutine received : 15\n",
      "25\n"
     ]
    }
   ],
   "source": [
    "from inspect import getgeneratorstate\n",
    "\n",
    "print('EX1-2 -', getgeneratorstate(c3))\n",
    "\n",
    "print(next(c3))\n",
    "\n",
    "print('EX1-3 -', getgeneratorstate(c3))\n",
    "\n",
    "print(c3.send(15))"
   ]
  },
  {
   "cell_type": "code",
   "execution_count": 11,
   "id": "30863e95-7147-4a0c-9cdf-613aac83987e",
   "metadata": {},
   "outputs": [
    {
     "name": "stdout",
     "output_type": "stream",
     "text": [
      "EX2-1 - 100\n",
      "EX2-2 - 140\n",
      "EX2-3 - 200\n"
     ]
    }
   ],
   "source": [
    "# 데코레이터 패턴\n",
    "\n",
    "from functools import wraps\n",
    "\n",
    "def coroutine(func):\n",
    "    '''Decorator run until yield'''\n",
    "    @wraps(func)\n",
    "    def primer(*args, **kwargs):\n",
    "        gen = func(*args, **kwargs)\n",
    "        next(gen)\n",
    "        return gen\n",
    "    return primer\n",
    "\n",
    "@coroutine\n",
    "def sumer():\n",
    "    total = 0\n",
    "    term = 0\n",
    "    while True:\n",
    "        term = yield total\n",
    "        total += term\n",
    "\n",
    "\n",
    "su = sumer()\n",
    "\n",
    "print('EX2-1 -', su.send(100))\n",
    "print('EX2-2 -', su.send(40))\n",
    "print('EX2-3 -', su.send(60))"
   ]
  },
  {
   "cell_type": "code",
   "execution_count": 15,
   "id": "dbf21ad9-9a91-4ca4-abea-4364a521a0e4",
   "metadata": {},
   "outputs": [
    {
     "name": "stdout",
     "output_type": "stream",
     "text": [
      ">> coroutine stated.\n",
      "EX3-1 - None\n",
      "-> coroutine received : 10\n",
      "EX3-2 - None\n",
      "-> coroutine received : 100\n",
      "EX3-3 - None\n",
      "-> SampleException handled. Continuing..\n",
      "EX3-4 - None\n",
      "-> coroutine received : 1000\n",
      "EX3-5 - None\n",
      "-> coroutine ending\n",
      "EX3-6 - None\n"
     ]
    }
   ],
   "source": [
    "class SampleException(Exception):\n",
    "    '''설명에 사용할 예외 유형'''\n",
    "    \n",
    "def coroutine_except():\n",
    "    print('>> coroutine stated.')\n",
    "    try:\n",
    "        while True:\n",
    "            try:\n",
    "                x = yield\n",
    "            except SampleException:\n",
    "                print('-> SampleException handled. Continuing..')\n",
    "            else:\n",
    "                print('-> coroutine received : {}'.format(x))\n",
    "    finally:\n",
    "        print('-> coroutine ending')\n",
    "\n",
    "\n",
    "exe_co = coroutine_except()\n",
    "\n",
    "print('EX3-1 -', next(exe_co))\n",
    "print('EX3-2 -', exe_co.send(10))\n",
    "print('EX3-3 -', exe_co.send(100))\n",
    "print('EX3-4 -', exe_co.throw(SampleException))\n",
    "print('EX3-5 -', exe_co.send(1000))\n",
    "print('EX3-6 -', exe_co.close()) # GEN_CLOSED"
   ]
  },
  {
   "cell_type": "code",
   "execution_count": 16,
   "id": "1418eeb7-0b8a-41cc-b520-00f82ae10ad7",
   "metadata": {},
   "outputs": [
    {
     "name": "stdout",
     "output_type": "stream",
     "text": [
      "EX4-1 - Average : 30.0\n"
     ]
    }
   ],
   "source": [
    "def averager_re():\n",
    "    total = 0.0\n",
    "    cnt = 0\n",
    "    avg = None\n",
    "    while True:\n",
    "        term = yield\n",
    "        if term is None:\n",
    "            break\n",
    "        total += term\n",
    "        cnt += 1\n",
    "        avg = total / cnt\n",
    "    return 'Average : {}'.format(avg)\n",
    "\n",
    "avger2 =averager_re()\n",
    "\n",
    "next(avger2)\n",
    "\n",
    "avger2.send(10)\n",
    "avger2.send(30)\n",
    "avger2.send(50)\n",
    "\n",
    "\n",
    "try:\n",
    "    avger2.send(None)\n",
    "except StopIteration as e:\n",
    "    print('EX4-1 -', e.value)"
   ]
  },
  {
   "cell_type": "code",
   "execution_count": 17,
   "id": "42258062-3721-4311-8522-a745fa2f1581",
   "metadata": {},
   "outputs": [
    {
     "name": "stdout",
     "output_type": "stream",
     "text": [
      "EX5-1 - A\n",
      "EX5-2 - B\n",
      "EX5-3 - 1\n",
      "EX5-4 - 2\n",
      "EX5-5 - 3\n",
      "EX5-7 - ['A', 'B', 1, 2, 3]\n"
     ]
    }
   ],
   "source": [
    "# 코루틴 예제5(yeild from)\n",
    "# StopIteration 자동 처리(3.7 -> await)\n",
    "# 중첩 코루틴 처리\n",
    "\n",
    "def gen1():\n",
    "    for x in 'AB':\n",
    "        yield x\n",
    "    for y in range(1,4):\n",
    "        yield y\n",
    "\n",
    "t1 = gen1()\n",
    "\n",
    "print('EX5-1 -', next(t1))\n",
    "print('EX5-2 -', next(t1))\n",
    "print('EX5-3 -', next(t1))\n",
    "print('EX5-4 -', next(t1))\n",
    "print('EX5-5 -', next(t1))\n",
    "# print('EX5-6 -', next(t1))\n",
    "\n",
    "t2 = gen1()\n",
    "\n",
    "print('EX5-7 -', list(t2))"
   ]
  },
  {
   "cell_type": "code",
   "execution_count": 18,
   "id": "94815cfc-1015-4b4d-b480-19b3e4e30214",
   "metadata": {},
   "outputs": [
    {
     "name": "stdout",
     "output_type": "stream",
     "text": [
      "EX6-1 - A\n",
      "EX6-2 - B\n",
      "EX6-3 - 1\n",
      "EX6-4 - 2\n",
      "EX6-5 - 3\n"
     ]
    }
   ],
   "source": [
    "def gen2():\n",
    "    yield from 'AB'\n",
    "    yield from range(1,4)\n",
    "\n",
    "\n",
    "\n",
    "t3 = gen2()\n",
    "\n",
    "print('EX6-1 -', next(t3))\n",
    "print('EX6-2 -', next(t3))\n",
    "print('EX6-3 -', next(t3))\n",
    "print('EX6-4 -', next(t3))\n",
    "print('EX6-5 -', next(t3))"
   ]
  },
  {
   "cell_type": "code",
   "execution_count": 19,
   "id": "d3465d8c-d043-483a-a7b8-4f7d63a3e489",
   "metadata": {},
   "outputs": [
    {
     "name": "stdout",
     "output_type": "stream",
     "text": [
      "EX6-7 - ['A', 'B', 1, 2, 3]\n"
     ]
    }
   ],
   "source": [
    "t4 = gen2()\n",
    "\n",
    "print('EX6-7 -', list(t4))"
   ]
  },
  {
   "cell_type": "code",
   "execution_count": 20,
   "id": "1db2ffdb-4e2f-4401-bdb5-1df37a9b78c6",
   "metadata": {},
   "outputs": [
    {
     "name": "stdout",
     "output_type": "stream",
     "text": [
      "Sub coroutine.\n",
      "EX7-1 - 10\n",
      "Recv :  7\n",
      "EX7-2 - 100\n",
      "Recv :  77\n"
     ]
    },
    {
     "ename": "StopIteration",
     "evalue": "",
     "output_type": "error",
     "traceback": [
      "\u001b[0;31m---------------------------------------------------------------------------\u001b[0m",
      "\u001b[0;31mStopIteration\u001b[0m                             Traceback (most recent call last)",
      "\u001b[0;32m/var/folders/f5/0f_87gv14b70d5y2pp9m1fhw0000gn/T/ipykernel_69406/1838391430.py\u001b[0m in \u001b[0;36m<module>\u001b[0;34m\u001b[0m\n\u001b[1;32m     13\u001b[0m \u001b[0mprint\u001b[0m\u001b[0;34m(\u001b[0m\u001b[0;34m'EX7-1 -'\u001b[0m\u001b[0;34m,\u001b[0m \u001b[0mnext\u001b[0m\u001b[0;34m(\u001b[0m\u001b[0mt5\u001b[0m\u001b[0;34m)\u001b[0m\u001b[0;34m)\u001b[0m\u001b[0;34m\u001b[0m\u001b[0;34m\u001b[0m\u001b[0m\n\u001b[1;32m     14\u001b[0m \u001b[0mprint\u001b[0m\u001b[0;34m(\u001b[0m\u001b[0;34m'EX7-2 -'\u001b[0m\u001b[0;34m,\u001b[0m \u001b[0mt5\u001b[0m\u001b[0;34m.\u001b[0m\u001b[0msend\u001b[0m\u001b[0;34m(\u001b[0m\u001b[0;36m7\u001b[0m\u001b[0;34m)\u001b[0m\u001b[0;34m)\u001b[0m\u001b[0;34m\u001b[0m\u001b[0;34m\u001b[0m\u001b[0m\n\u001b[0;32m---> 15\u001b[0;31m \u001b[0mprint\u001b[0m\u001b[0;34m(\u001b[0m\u001b[0;34m'EX7-2 -'\u001b[0m\u001b[0;34m,\u001b[0m \u001b[0mt5\u001b[0m\u001b[0;34m.\u001b[0m\u001b[0msend\u001b[0m\u001b[0;34m(\u001b[0m\u001b[0;36m77\u001b[0m\u001b[0;34m)\u001b[0m\u001b[0;34m)\u001b[0m\u001b[0;34m\u001b[0m\u001b[0;34m\u001b[0m\u001b[0m\n\u001b[0m",
      "\u001b[0;31mStopIteration\u001b[0m: "
     ]
    }
   ],
   "source": [
    "def gen3_sub():\n",
    "    print('Sub coroutine.')\n",
    "    x = yield 10\n",
    "    print('Recv : ', str(x))\n",
    "    x = yield 100\n",
    "    print('Recv : ', str(x))\n",
    "\n",
    "def gen4_main():\n",
    "    yield from gen3_sub()\n",
    "\n",
    "t5 = gen4_main()\n",
    "\n",
    "print('EX7-1 -', next(t5))\n",
    "print('EX7-2 -', t5.send(7))\n",
    "print('EX7-2 -', t5.send(77))"
   ]
  },
  {
   "cell_type": "code",
   "execution_count": null,
   "id": "086303d4-8cbc-4c6f-bfe7-ea48b7f3d1d8",
   "metadata": {},
   "outputs": [],
   "source": []
  }
 ],
 "metadata": {
  "kernelspec": {
   "display_name": "Python 3 (ipykernel)",
   "language": "python",
   "name": "python3"
  },
  "language_info": {
   "codemirror_mode": {
    "name": "ipython",
    "version": 3
   },
   "file_extension": ".py",
   "mimetype": "text/x-python",
   "name": "python",
   "nbconvert_exporter": "python",
   "pygments_lexer": "ipython3",
   "version": "3.9.13"
  }
 },
 "nbformat": 4,
 "nbformat_minor": 5
}
