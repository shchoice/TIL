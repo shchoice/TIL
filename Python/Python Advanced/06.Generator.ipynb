{
 "cells": [
  {
   "cell_type": "markdown",
   "id": "2c6180ba-db40-4b4f-8701-4becebed92cd",
   "metadata": {},
   "source": [
    "# Generator\n",
    "\n",
    "* 파이썬에서 제너레이터(generator)는 이터레이터를 생성하는 특별한 종류의 함수 \n",
    "* 제너레이터는 일반 함수와 비슷하지만, 값을 반환할 때 return 대신 yield 키워드를 사용\n",
    "* 제너레이터는 호출될 때마다 이전에 중단된 위치에서 실행을 계속하여, 일련의 값을 순차적으로 생성할 수 있는 능력을 가짐.\n",
    "\n",
    "* 제너레이터의 주요 장점은 메모리 효율성과 지연(lazy) 연산\n",
    "* 제너레이터는 한 번에 모든 값을 생성하지 않고, 값을 필요할 때마다 한 번에 하나씩 생성\n",
    "    * 이렇게 하면 큰 데이터 집합을 처리할 때 메모리를 절약할 수 있으며, 필요한 값만 계산함으로써 성능을 향상시킬 수 있음"
   ]
  },
  {
   "cell_type": "markdown",
   "id": "ca2aa2c0-c4a1-4887-bc6d-e816e71e7ec8",
   "metadata": {},
   "source": [
    "## 순서\n",
    "* 파이썬 반복형 종류\n",
    "* iter, next 함수\n",
    "* Generator 장점\n",
    "* Generator 실습\n",
    "* Generator 내장 함수 실습"
   ]
  },
  {
   "cell_type": "code",
   "execution_count": 7,
   "id": "470b24c2-0483-474d-985f-d2c3a4c97df9",
   "metadata": {},
   "outputs": [],
   "source": [
    "# Generator 예제1\n",
    "\n",
    "def generator_ex1():\n",
    "    print('start')\n",
    "    yield 'AAA'\n",
    "    print('continue')\n",
    "    yield 'BBB'\n",
    "    print('end')"
   ]
  },
  {
   "cell_type": "code",
   "execution_count": 2,
   "id": "810a327f-5655-4a88-ac4b-3de6909e7d93",
   "metadata": {},
   "outputs": [
    {
     "name": "stdout",
     "output_type": "stream",
     "text": [
      "start\n",
      "EX4-1 - AAA\n",
      "continue\n",
      "EX4-2 - BBB\n",
      "end\n"
     ]
    },
    {
     "ename": "StopIteration",
     "evalue": "",
     "output_type": "error",
     "traceback": [
      "\u001b[0;31m---------------------------------------------------------------------------\u001b[0m",
      "\u001b[0;31mStopIteration\u001b[0m                             Traceback (most recent call last)",
      "\u001b[0;32m/var/folders/f5/0f_87gv14b70d5y2pp9m1fhw0000gn/T/ipykernel_69199/2245895075.py\u001b[0m in \u001b[0;36m<module>\u001b[0;34m\u001b[0m\n\u001b[1;32m      3\u001b[0m \u001b[0mprint\u001b[0m\u001b[0;34m(\u001b[0m\u001b[0;34m'EX4-1 -'\u001b[0m\u001b[0;34m,\u001b[0m \u001b[0mnext\u001b[0m\u001b[0;34m(\u001b[0m\u001b[0mtemp\u001b[0m\u001b[0;34m)\u001b[0m\u001b[0;34m)\u001b[0m\u001b[0;34m\u001b[0m\u001b[0;34m\u001b[0m\u001b[0m\n\u001b[1;32m      4\u001b[0m \u001b[0mprint\u001b[0m\u001b[0;34m(\u001b[0m\u001b[0;34m'EX4-2 -'\u001b[0m\u001b[0;34m,\u001b[0m \u001b[0mnext\u001b[0m\u001b[0;34m(\u001b[0m\u001b[0mtemp\u001b[0m\u001b[0;34m)\u001b[0m\u001b[0;34m)\u001b[0m\u001b[0;34m\u001b[0m\u001b[0;34m\u001b[0m\u001b[0m\n\u001b[0;32m----> 5\u001b[0;31m \u001b[0mprint\u001b[0m\u001b[0;34m(\u001b[0m\u001b[0;34m'EX4-1 -'\u001b[0m\u001b[0;34m,\u001b[0m \u001b[0mnext\u001b[0m\u001b[0;34m(\u001b[0m\u001b[0mtemp\u001b[0m\u001b[0;34m)\u001b[0m\u001b[0;34m)\u001b[0m\u001b[0;34m\u001b[0m\u001b[0;34m\u001b[0m\u001b[0m\n\u001b[0m",
      "\u001b[0;31mStopIteration\u001b[0m: "
     ]
    }
   ],
   "source": [
    "temp = iter(generator_ex1())\n",
    "\n",
    "print('EX4-1 -', next(temp))\n",
    "print('EX4-2 -', next(temp))\n",
    "## yield가 2개 이기에 next 두번까지만 허용\n",
    "print('EX4-1 -', next(temp))"
   ]
  },
  {
   "cell_type": "code",
   "execution_count": 3,
   "id": "a211ab12-325f-4df3-9ae7-c8cf6d8b405d",
   "metadata": {},
   "outputs": [
    {
     "name": "stdout",
     "output_type": "stream",
     "text": [
      "start\n",
      "continue\n",
      "end\n",
      "EX5-1 - ['AAAAAAAAA', 'BBBBBBBBB']\n",
      "EX5-2 - <generator object <genexpr> at 0x7fc8188819e0>\n"
     ]
    }
   ],
   "source": [
    "# Generator 예제2\n",
    "\n",
    "temp2 = [x * 3 for x in generator_ex1()]\n",
    "temp3 = (x * 3 for x in generator_ex1())\n",
    "\n",
    "print('EX5-1 -',temp2)\n",
    "print('EX5-2 -',temp3)"
   ]
  },
  {
   "cell_type": "code",
   "execution_count": 4,
   "id": "05346e98-33c6-4646-8e83-31d2876b43ab",
   "metadata": {},
   "outputs": [
    {
     "name": "stdout",
     "output_type": "stream",
     "text": [
      "EX5-3 - AAAAAAAAA\n",
      "EX5-3 - BBBBBBBBB\n"
     ]
    }
   ],
   "source": [
    "for i in temp2:\n",
    "    print('EX5-3 -', i)"
   ]
  },
  {
   "cell_type": "code",
   "execution_count": 5,
   "id": "521352f5-ffff-419b-a44e-92813803a4e1",
   "metadata": {},
   "outputs": [
    {
     "name": "stdout",
     "output_type": "stream",
     "text": [
      "start\n",
      "EX5-4 - AAAAAAAAA\n",
      "continue\n",
      "EX5-4 - BBBBBBBBB\n",
      "end\n"
     ]
    }
   ],
   "source": [
    "for i in temp3:\n",
    "    print('EX5-4 -', i)"
   ]
  },
  {
   "cell_type": "code",
   "execution_count": 8,
   "id": "63c722e7-cc2a-46c9-aec5-1ae4ba9366a7",
   "metadata": {},
   "outputs": [
    {
     "name": "stdout",
     "output_type": "stream",
     "text": [
      "EX6-1 - 1\n",
      "EX6-2 - 3.5\n",
      "EX6-3 - 6.0\n",
      "EX6-4 - 8.5\n"
     ]
    }
   ],
   "source": [
    "# Generator 예제3(자주 사용하는 함수)\n",
    "\n",
    "import itertools\n",
    "\n",
    "gen1 = itertools.count(1, 2.5)\n",
    "\n",
    "print('EX6-1 -', next(gen1))\n",
    "print('EX6-2 -', next(gen1))\n",
    "print('EX6-3 -', next(gen1))\n",
    "print('EX6-4 -', next(gen1))\n",
    "# ... 무한"
   ]
  },
  {
   "cell_type": "code",
   "execution_count": 10,
   "id": "f45e2150-d5bb-48cd-844f-a6931387a5f9",
   "metadata": {},
   "outputs": [
    {
     "name": "stdout",
     "output_type": "stream",
     "text": [
      "ex6-5 - 1\n",
      "ex6-5 - 101\n",
      "ex6-5 - 201\n",
      "ex6-5 - 301\n",
      "ex6-5 - 401\n",
      "ex6-5 - 501\n",
      "ex6-5 - 601\n",
      "ex6-5 - 701\n",
      "ex6-5 - 801\n",
      "ex6-5 - 901\n"
     ]
    }
   ],
   "source": [
    "# 조건\n",
    "gen2 = itertools.takewhile(lambda n : n < 1000, itertools.count(1, 100))\n",
    "\n",
    "for v in gen2:\n",
    "    print('ex6-5 -', v)\n"
   ]
  },
  {
   "cell_type": "code",
   "execution_count": 11,
   "id": "cef15ac7-ea4f-4265-9d03-83432df68016",
   "metadata": {},
   "outputs": [
    {
     "name": "stdout",
     "output_type": "stream",
     "text": [
      "EX6-6 - 3\n",
      "EX6-6 - 4\n",
      "EX6-6 - 5\n"
     ]
    }
   ],
   "source": [
    "# 필터 반대\n",
    "gen3 = itertools.filterfalse(lambda n : n < 3, [1,2,3,4,5])\n",
    "\n",
    "for v in gen3:\n",
    "    print('EX6-6 -', v)"
   ]
  },
  {
   "cell_type": "code",
   "execution_count": 15,
   "id": "44cf527a-a595-4490-8277-85fac9d4ed05",
   "metadata": {},
   "outputs": [
    {
     "name": "stdout",
     "output_type": "stream",
     "text": [
      "EX6-7 - 1\n",
      "EX6-7 - 3\n",
      "EX6-7 - 6\n",
      "EX6-7 - 10\n",
      "EX6-7 - 15\n",
      "EX6-7 - 21\n",
      "EX6-7 - 28\n",
      "EX6-7 - 36\n",
      "EX6-7 - 45\n",
      "\n"
     ]
    }
   ],
   "source": [
    "# 누적 합계\n",
    "gen4 = itertools.accumulate([x for x in range(1, 10)])\n",
    "for v in gen4:\n",
    "    print('EX6-7 -', v)\n",
    "\n",
    "print()"
   ]
  },
  {
   "cell_type": "code",
   "execution_count": 16,
   "id": "bf241f6d-dcf8-4801-8025-3e8e3bc3ef8d",
   "metadata": {},
   "outputs": [
    {
     "name": "stdout",
     "output_type": "stream",
     "text": [
      "EX6-8 - ['A', 'B', 'C', 'D', 'E', 1, 3, 5, 7, 9]\n"
     ]
    }
   ],
   "source": [
    "# 연결1\n",
    "gen5 = itertools.chain('ABCDE', range(1,11,2))\n",
    "\n",
    "print('EX6-8 -', list(gen5))"
   ]
  },
  {
   "cell_type": "code",
   "execution_count": 17,
   "id": "fafa7edd-953d-4cda-ab8a-da4d88efd155",
   "metadata": {},
   "outputs": [
    {
     "name": "stdout",
     "output_type": "stream",
     "text": [
      "EX6-9 - [(0, 'A'), (1, 'B'), (2, 'C'), (3, 'D'), (4, 'E')]\n"
     ]
    }
   ],
   "source": [
    "# 연결2\n",
    "\n",
    "gen6 = itertools.chain(enumerate('ABCDE'))\n",
    "\n",
    "print('EX6-9 -', list(gen6))\n"
   ]
  },
  {
   "cell_type": "code",
   "execution_count": 18,
   "id": "92ce209d-221f-40a2-8321-02020fcfddec",
   "metadata": {},
   "outputs": [
    {
     "name": "stdout",
     "output_type": "stream",
     "text": [
      "EX6-10 - [('A',), ('B',), ('C',), ('D',), ('E',)]\n"
     ]
    }
   ],
   "source": [
    "# 개별\n",
    "gen7 = itertools.product('ABCDE')\n",
    "\n",
    "print('EX6-10 -', list(gen7))"
   ]
  },
  {
   "cell_type": "code",
   "execution_count": 22,
   "id": "4c64fb14-5f44-45e4-8983-a4d9850f6db0",
   "metadata": {},
   "outputs": [
    {
     "name": "stdout",
     "output_type": "stream",
     "text": [
      "EX6-11 - [('A', 'A'), ('A', 'B'), ('A', 'C'), ('A', 'D'), ('A', 'E'), ('B', 'A'), ('B', 'B'), ('B', 'C'), ('B', 'D'), ('B', 'E'), ('C', 'A'), ('C', 'B'), ('C', 'C'), ('C', 'D'), ('C', 'E'), ('D', 'A'), ('D', 'B'), ('D', 'C'), ('D', 'D'), ('D', 'E'), ('E', 'A'), ('E', 'B'), ('E', 'C'), ('E', 'D'), ('E', 'E')]\n"
     ]
    }
   ],
   "source": [
    "# 연산(경우의 수)\n",
    "gen8 = itertools.product('ABCDE', repeat=2)\n",
    "\n",
    "print('EX6-11 -', list(gen8))"
   ]
  },
  {
   "cell_type": "code",
   "execution_count": 25,
   "id": "d7d6aa39-5ad9-4d40-aa8f-031f837e12b2",
   "metadata": {},
   "outputs": [
    {
     "name": "stdout",
     "output_type": "stream",
     "text": [
      "EX6-12 - A  :  ['A', 'A', 'A']\n",
      "EX6-12 - B  :  ['B', 'B']\n",
      "EX6-12 - C  :  ['C', 'C', 'C', 'C']\n",
      "EX6-12 - D  :  ['D', 'D']\n",
      "EX6-12 - E  :  ['E', 'E', 'E']\n"
     ]
    }
   ],
   "source": [
    "# 그룹화\n",
    "gen9 = itertools.groupby('AAABBCCCCDDEEE')\n",
    "\n",
    "for chr, group in gen9:\n",
    "    print('EX6-12 -', chr, ' : ', list(group))\n"
   ]
  },
  {
   "cell_type": "code",
   "execution_count": null,
   "id": "d3c2c970-4d0c-45c7-b383-ae1d270b3525",
   "metadata": {},
   "outputs": [],
   "source": []
  }
 ],
 "metadata": {
  "kernelspec": {
   "display_name": "Python 3 (ipykernel)",
   "language": "python",
   "name": "python3"
  },
  "language_info": {
   "codemirror_mode": {
    "name": "ipython",
    "version": 3
   },
   "file_extension": ".py",
   "mimetype": "text/x-python",
   "name": "python",
   "nbconvert_exporter": "python",
   "pygments_lexer": "ipython3",
   "version": "3.9.13"
  }
 },
 "nbformat": 4,
 "nbformat_minor": 5
}
