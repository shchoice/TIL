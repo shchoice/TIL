{
 "cells": [
  {
   "cell_type": "markdown",
   "id": "2c6180ba-db40-4b4f-8701-4becebed92cd",
   "metadata": {},
   "source": [
    "# Generator\n",
    "\n",
    "파이썬에서 제너레이터(generator)는 이터레이터를 생성하는 특별한 종류의 함수입니다. 제너레이터는 일반 함수와 비슷하지만, 값을 반환할 때 return 대신 yield 키워드를 사용합니다. 제너레이터는 호출될 때마다 이전에 중단된 위치에서 실행을 계속하여, 일련의 값을 순차적으로 생성할 수 있는 능력을 가집니다.\n",
    "\n",
    "제너레이터의 주요 장점은 메모리 효율성과 지연(lazy) 연산입니다. 제너레이터는 한 번에 모든 값을 생성하지 않고, 값을 필요할 때마다 한 번에 하나씩 생성합니다. 이렇게 하면 큰 데이터 집합을 처리할 때 메모리를 절약할 수 있으며, 필요한 값만 계산함으로써 성능을 향상시킬 수 있습니다."
   ]
  },
  {
   "cell_type": "code",
   "execution_count": 7,
   "id": "470b24c2-0483-474d-985f-d2c3a4c97df9",
   "metadata": {},
   "outputs": [],
   "source": [
    "# Generator 예제1\n",
    "\n",
    "def generator_ex1():\n",
    "    print('start')\n",
    "    yield 'AAA'\n",
    "    print('continue')\n",
    "    yield 'BBB'\n",
    "    print('end')"
   ]
  },
  {
   "cell_type": "code",
   "execution_count": 2,
   "id": "810a327f-5655-4a88-ac4b-3de6909e7d93",
   "metadata": {},
   "outputs": [
    {
     "name": "stdout",
     "output_type": "stream",
     "text": [
      "start\n",
      "EX4-1 - AAA\n",
      "continue\n",
      "EX4-2 - BBB\n",
      "end\n"
     ]
    },
    {
     "ename": "StopIteration",
     "evalue": "",
     "output_type": "error",
     "traceback": [
      "\u001b[0;31m---------------------------------------------------------------------------\u001b[0m",
      "\u001b[0;31mStopIteration\u001b[0m                             Traceback (most recent call last)",
      "\u001b[0;32m/var/folders/f5/0f_87gv14b70d5y2pp9m1fhw0000gn/T/ipykernel_69199/2245895075.py\u001b[0m in \u001b[0;36m<module>\u001b[0;34m\u001b[0m\n\u001b[1;32m      3\u001b[0m \u001b[0mprint\u001b[0m\u001b[0;34m(\u001b[0m\u001b[0;34m'EX4-1 -'\u001b[0m\u001b[0;34m,\u001b[0m \u001b[0mnext\u001b[0m\u001b[0;34m(\u001b[0m\u001b[0mtemp\u001b[0m\u001b[0;34m)\u001b[0m\u001b[0;34m)\u001b[0m\u001b[0;34m\u001b[0m\u001b[0;34m\u001b[0m\u001b[0m\n\u001b[1;32m      4\u001b[0m \u001b[0mprint\u001b[0m\u001b[0;34m(\u001b[0m\u001b[0;34m'EX4-2 -'\u001b[0m\u001b[0;34m,\u001b[0m \u001b[0mnext\u001b[0m\u001b[0;34m(\u001b[0m\u001b[0mtemp\u001b[0m\u001b[0;34m)\u001b[0m\u001b[0;34m)\u001b[0m\u001b[0;34m\u001b[0m\u001b[0;34m\u001b[0m\u001b[0m\n\u001b[0;32m----> 5\u001b[0;31m \u001b[0mprint\u001b[0m\u001b[0;34m(\u001b[0m\u001b[0;34m'EX4-1 -'\u001b[0m\u001b[0;34m,\u001b[0m \u001b[0mnext\u001b[0m\u001b[0;34m(\u001b[0m\u001b[0mtemp\u001b[0m\u001b[0;34m)\u001b[0m\u001b[0;34m)\u001b[0m\u001b[0;34m\u001b[0m\u001b[0;34m\u001b[0m\u001b[0m\n\u001b[0m",
      "\u001b[0;31mStopIteration\u001b[0m: "
     ]
    }
   ],
   "source": [
    "temp = iter(generator_ex1())\n",
    "\n",
    "print('EX4-1 -', next(temp))\n",
    "print('EX4-2 -', next(temp))\n",
    "## yield가 2개 이기에 next 두번까지만 허용\n",
    "print('EX4-1 -', next(temp))"
   ]
  },
  {
   "cell_type": "code",
   "execution_count": 3,
   "id": "a211ab12-325f-4df3-9ae7-c8cf6d8b405d",
   "metadata": {},
   "outputs": [
    {
     "name": "stdout",
     "output_type": "stream",
     "text": [
      "start\n",
      "continue\n",
      "end\n",
      "EX5-1 - ['AAAAAAAAA', 'BBBBBBBBB']\n",
      "EX5-2 - <generator object <genexpr> at 0x7fc8188819e0>\n"
     ]
    }
   ],
   "source": [
    "# Generator 예제2\n",
    "\n",
    "temp2 = [x * 3 for x in generator_ex1()]\n",
    "temp3 = (x * 3 for x in generator_ex1())\n",
    "\n",
    "print('EX5-1 -',temp2)\n",
    "print('EX5-2 -',temp3)"
   ]
  },
  {
   "cell_type": "code",
   "execution_count": 4,
   "id": "05346e98-33c6-4646-8e83-31d2876b43ab",
   "metadata": {},
   "outputs": [
    {
     "name": "stdout",
     "output_type": "stream",
     "text": [
      "EX5-3 - AAAAAAAAA\n",
      "EX5-3 - BBBBBBBBB\n"
     ]
    }
   ],
   "source": [
    "for i in temp2:\n",
    "    print('EX5-3 -', i)"
   ]
  },
  {
   "cell_type": "code",
   "execution_count": 5,
   "id": "521352f5-ffff-419b-a44e-92813803a4e1",
   "metadata": {},
   "outputs": [
    {
     "name": "stdout",
     "output_type": "stream",
     "text": [
      "start\n",
      "EX5-4 - AAAAAAAAA\n",
      "continue\n",
      "EX5-4 - BBBBBBBBB\n",
      "end\n"
     ]
    }
   ],
   "source": [
    "for i in temp3:\n",
    "    print('EX5-4 -', i)"
   ]
  },
  {
   "cell_type": "code",
   "execution_count": null,
   "id": "63c722e7-cc2a-46c9-aec5-1ae4ba9366a7",
   "metadata": {},
   "outputs": [],
   "source": []
  }
 ],
 "metadata": {
  "kernelspec": {
   "display_name": "Python 3 (ipykernel)",
   "language": "python",
   "name": "python3"
  },
  "language_info": {
   "codemirror_mode": {
    "name": "ipython",
    "version": 3
   },
   "file_extension": ".py",
   "mimetype": "text/x-python",
   "name": "python",
   "nbconvert_exporter": "python",
   "pygments_lexer": "ipython3",
   "version": "3.9.13"
  }
 },
 "nbformat": 4,
 "nbformat_minor": 5
}
